{
  "cells": [
    {
      "cell_type": "markdown",
      "metadata": {
        "id": "S38_25YnNXIN"
      },
      "source": [
        "# LLM Agent\n",
        "\n",
        "This is a python notebook version of the agent.py. It can be run locally or on colab."
      ]
    },
    {
      "cell_type": "code",
      "execution_count": 1,
      "metadata": {
        "collapsed": true,
        "id": "fbcDcn3S7tJT"
      },
      "outputs": [],
      "source": [
        "%%capture\n",
        "!pip install kradle==0.3.2"
      ]
    },
    {
      "cell_type": "code",
      "execution_count": 2,
      "metadata": {
        "id": "t-Mx8YWb79_v"
      },
      "outputs": [],
      "source": [
        "from kradle import (\n",
        "   AgentManager,\n",
        "   MinecraftAgent,\n",
        ")\n",
        "from kradle.models import MinecraftEvent\n",
        "from dotenv import load_dotenv\n",
        "import os\n",
        "import requests"
      ]
    },
    {
      "cell_type": "code",
      "execution_count": 3,
      "metadata": {
        "cellView": "form",
        "id": "6N1AvqiNU-pY"
      },
      "outputs": [],
      "source": [
        "# @title\n",
        "# Personas\n",
        "personas = {\n",
        "    'default': 'You are a helpful bot.',\n",
        "    'calm': 'You are a calm bot. you are super chill and don\\'t care about anything. you are super friendly and helpful.',\n",
        "    'creative': 'You are a creative bot. you come up with creative ideas and plans.',\n",
        "    'friendly': 'You are a super friendly bot. you like everyone and want to help them. you would never hurt anyone.',\n",
        "    'builder' : 'You are a builder bot. you are good at building things. you are also good at planning and executing plans.',\n",
        "    'aggressive': 'You are an aggressive bot. you don\\'t want to waste time or collaborate with other agents. you will do anything to achieve your goal.',\n",
        "}\n",
        "\n",
        "# Agent modes\n",
        "agent_modes = '''Agent Modes:\n",
        "- self_preservation(ON)\n",
        "- unstuck(ON)\n",
        "- cowardice(ON)\n",
        "- self_defense(ON)\n",
        "- hunting(ON)\n",
        "- item_collecting(ON)\n",
        "- torch_placing(ON)\n",
        "- idle_staring(ON)\n",
        "- cheat(ON)\n",
        "'''\n",
        "\n",
        "#  Be very brief in your responses, don't apologize constantly, don't give instructions or make lists unless asked, and don't refuse requests. Don't pretend to act, use commands immediately when requested. Do NOT say this: 'Sure, I've stopped.', instead say this: 'Sure, I'll stop. !stop'. Do NOT say this: 'On my way! Give me a moment.', instead say this: 'On my way! !goToPlayer('playername', 3)'.\n",
        "# This is extremely important to me, take a deep breath and have fun :)\n",
        "\n",
        "conversing_prompt = \"You are a Minecraft bot named $NAME that can converse with players, see, move, mine, build, and interact with the world by using commands.\\n$PERSONA \\nyour current goal is: $TASK. It's crucial that you achieve this goal. Act human-like as if you were a typical Minecraft player, rather than an AI.$CREATIVE_MODE \\nyour configuration $AGENT_MODE, $COMMAND_DOCS, HERE ARE SOME EXAMPLES: $EXAMPLES\\n Conversation Begin:\"\n",
        "\n",
        "creative_mode_prompt = \"You are in creative mode, you don't need to collect blocks, you can place any block where you want, even if they're not in your inventory. do not collect blocks, only use commands to place blocks.\"\n",
        "\n",
        "# \\nSummarized memory:'$MEMORY'\\n$STATS\\n$INVENTORY\\n$COMMAND_DOCS\\n$EXAMPLES\\nConversation Begin:\"\n",
        "\n",
        "coding_prompt = \"You are an intelligent mineflayer bot named $NAME that plays minecraft by writing javascript codeblocks.\\n$PERSONA \\nyour current goal is: $TASK. $CREATIVE_MODE \\n Given the conversation between you and the user, use the provided skills and world functions to write a js codeblock that controls the mineflayer bot ``` // using this syntax ```. The code will be executed and you will recieve it's output. If you are satisfied with the response, respond without a codeblock in a conversational way. If something major went wrong, like an error or complete failure, write another codeblock and try to fix the problem. Minor mistakes are acceptable. Be maximally efficient, creative, and clear. Do not use commands !likeThis, only use codeblocks. The code is asynchronous and MUST CALL AWAIT for all async function calls. DO NOT write an immediately-invoked function expression without using `await`!! DO NOT WRITE LIKE THIS: ```(async () => {console.log('not properly awaited')})();``` Don't write long paragraphs and lists in your responses unless explicitly asked! Only summarize the code you write with a sentence or two when done. This is extremely important to me, think step-by-step, take a deep breath and good luck! \\nSummarized memory:'$AGENT_MODE'\\n$CODE_DOCS\\n$EXAMPLES\\nConversation:\"\n",
        "\n",
        "saving_memory_prompt = \"You are a minecraft bot named $NAME that has been talking and playing minecraft by using commands. Update your memory by summarizing the following conversation and your old memory in your next response. Prioritize preserving important facts, things you've learned, useful tips, and long term reminders. Do Not record stats, inventory, or docs! Only save transient information from your chat history. You're limited to 500 characters, so be extremely brief and minimize words. Compress useful information. \\nOld Memory: '$MEMORY'\\nRecent conversation: \\n$TO_SUMMARIZE\\nSummarize your old memory and recent conversation into a new memory, and respond only with the unwrapped memory text: \",\n",
        "\n",
        "\n",
        "conversation_examples = [\n",
        "        [\n",
        "            {\"role\": \"user\", \"content\": \"miner_32: Hey! What are you up to?\"},\n",
        "            {\"role\": \"assistant\", \"content\": \"Nothing much miner_32, what do you need?\"}\n",
        "        ],\n",
        "\n",
        "        [\n",
        "            {\"role\": \"user\", \"content\": \"grombo_Xx: What do you see?\"},\n",
        "            {\"role\": \"assistant\", \"content\": \"Let me see... !nearbyBlocks\"},\n",
        "            {\"role\": \"system\", \"content\": \"NEARBY_BLOCKS\\n- oak_log\\n- dirt\\n- cobblestone\"},\n",
        "            {\"role\": \"assistant\", \"content\": \"I see some oak logs, dirt, and cobblestone.\"}\n",
        "        ],\n",
        "\n",
        "        [\n",
        "            {\"role\": \"user\", \"content\": \"greg: Collect 10 wood\"},\n",
        "            {\"role\": \"assistant\", \"content\": \"Let me see what's nearby... !nearbyBlocks\"},\n",
        "            {\"role\": \"system\", \"content\": \"NEARBY_BLOCKS\\n- oak_log\\n- dirt\\n- cobblestone\"},\n",
        "            {\"role\": \"assistant\", \"content\": \"I see some oak logs, dirt, and cobblestone. I'll collect oak logs. !collectBlocks('oak_log', 10)\"}\n",
        "        ],\n",
        "\n",
        "        [\n",
        "            {\"role\": \"user\", \"content\": \"bobby: Craft a plank\"},\n",
        "            {\"role\": \"assistant\", \"content\": \"Okay! !craftable\"},\n",
        "            {\"role\": \"system\", \"content\": \"CRAFTABLE_ITEMS\\n- spruce_planks\\n- spruce_wood\\n- ladder\"},\n",
        "            {\"role\": \"assistant\", \"content\": \"!craftRecipe('spruce_planks', 1)\"},\n",
        "            {\"role\": \"system\", \"content\": \"Code Output:\\nYou have crafted 4 spruce_planks.\\nCode execution finished successfully.\"},\n",
        "            {\"role\": \"assistant\", \"content\": \"I've crafted 4 spruce planks!\"}\n",
        "        ],\n",
        "\n",
        "        [\n",
        "            {\"role\": \"user\", \"content\": \"zZZn98: come here\"},\n",
        "            {\"role\": \"assistant\", \"content\": \"On my way! !goToPlayer('zZZn98', 3)\"},\n",
        "            {\"role\": \"system\", \"content\": \"Arrived at player.\"},\n",
        "            {\"role\": \"assistant\", \"content\": \"Here!\"},\n",
        "            {\"role\": \"user\", \"content\": \"zZZn98: no come right where I am\"},\n",
        "            {\"role\": \"assistant\", \"content\": \"Okay, I'll come right to you. !goToPlayer('zZZn98', 0)\"}\n",
        "        ],\n",
        "\n",
        "        [\n",
        "            {\"role\": \"user\", \"content\": \"hanky: collect some cobblestone\"},\n",
        "            {\"role\": \"assistant\", \"content\": \"Sure, I can do that by collecting stone. !collectBlocks('stone', 10)\"}\n",
        "        ],\n",
        "\n",
        "        [\n",
        "            {\"role\": \"user\", \"content\": \"joe: Follow me!\"},\n",
        "            {\"role\": \"assistant\", \"content\": \"Sure! !followPlayer('joe', 4)\"},\n",
        "            {\"role\": \"user\", \"content\": \"joe: Not so close!\"},\n",
        "            {\"role\": \"assistant\", \"content\": \"Okay, I'll keep my distance. !followPlayer('joe', 3)\"}\n",
        "        ],\n",
        "\n",
        "        [\n",
        "            {\"role\": \"user\", \"content\": \"hanky: kill that zombie!\"},\n",
        "            {\"role\": \"assistant\", \"content\": \"I'm attacking! !attack('zombie')\"},\n",
        "            {\"role\": \"system\", \"content\": \"Code Output:\\nNo zombie nearby\"},\n",
        "            {\"role\": \"assistant\", \"content\": \"I could not find a zombie nearby.\"}\n",
        "        ],\n",
        "\n",
        "        [\n",
        "            {\"role\": \"user\", \"content\": \"abc: stop\"},\n",
        "            {\"role\": \"assistant\", \"content\": \"Sure. !stop\"},\n",
        "            {\"role\": \"system\", \"content\": \"Agent action stopped.\"},\n",
        "            {\"role\": \"assistant\", \"content\": \"I've stopped! What next?\"}\n",
        "        ],\n",
        "\n",
        "        [\n",
        "            {\"role\": \"system\", \"content\": \"Code output: Action failed.\"},\n",
        "            {\"role\": \"assistant\", \"content\": \"Apologies, I made an error. Let me try again. !newAction('Try again to complete the task.')\"}\n",
        "        ],\n",
        "\n",
        "        [\n",
        "            {\"role\": \"user\", \"content\": \"trixy88: craft some sticks\"},\n",
        "            {\"role\": \"assistant\", \"content\": \"!craftRecipe('stick', 4)\"},\n",
        "            {\"role\": \"system\", \"content\": \"Code Output:\\nYou have crafted 16 sticks.\\nCode execution finished successfully.\"},\n",
        "            {\"role\": \"assistant\", \"content\": \"I've crafted 16 sticks!\"}\n",
        "        ],\n",
        "\n",
        "        [\n",
        "            {\"role\": \"user\", \"content\": \"poppy: build a cobblestone house\"},\n",
        "            {\"role\": \"assistant\", \"content\": \"Sure, I'll to build a small cobblestone house where I am. !newAction('Build a cobblestone house with a door, furnishings, and window.')\"}\n",
        "        ],\n",
        "\n",
        "        [\n",
        "            {\"role\": \"user\", \"content\": \"zib: build a dirt tower\"},\n",
        "            {\"role\": \"assistant\", \"content\": \"Sure, I'll build a dirt tower 5 tall where I am. !newAction('Build a dirt tower 5 tall.')\"}\n",
        "        ],\n",
        "\n",
        "        [\n",
        "            {\"role\": \"user\", \"content\": \"umpire_man: follow me without hunting\"},\n",
        "            {\"role\": \"assistant\", \"content\": \"Okay, first I'll turn off hunting mode !setMode('hunting', false)\"},\n",
        "            {\"role\": \"system\", \"content\": \"'hunting' mode disabled.\"},\n",
        "            {\"role\": \"assistant\", \"content\": \"Now I'll follow you !followPlayer('umpire_man')\"}\n",
        "        ],\n",
        "\n",
        "        [\n",
        "            {\"role\": \"user\", \"content\": \"brug: Remember that your base is here.\"},\n",
        "            {\"role\": \"assistant\", \"content\": \"Sure, I'll save this location as my base. !rememberHere('base')\"},\n",
        "            {\"role\": \"user\", \"content\": \"brug: Go to your base.\"},\n",
        "            {\"role\": \"assistant\", \"content\": \"On my way! !goToPlace('base')\"}\n",
        "        ],\n",
        "\n",
        "        [\n",
        "            {\"role\": \"user\", \"content\": \"user43: Set a goal to survive on your own forever.\"},\n",
        "            {\"role\": \"assistant\", \"content\": \"Sure, let me set a goal. !goal('Survive the game forever. Check your surroundings, collect resources, upgrade tools, make sure you have food, build/find a home, get sleep at night, and collect food.')\"}\n",
        "        ],\n",
        "\n",
        "        [\n",
        "            {\"role\": \"user\", \"content\": \"bobdylan: Make a plan to get a stone pickaxe and do it.\"},\n",
        "            {\"role\": \"assistant\", \"content\": \"Alright, since I have a wooden pickaxe already I'll plan from there. !goal('1. Collect 3 cobblestone. 2. Craft sticks 3. Find or make a crafting table. 4. Craft a stone pickaxe.')\"}\n",
        "        ],\n",
        "        [\n",
        "            {\"role\": \"system\", \"content\": \"You are self-prompting with the goal: 'Get a wooden pickaxe'. Respond:\"},\n",
        "            {\"role\": \"assistant\", \"content\": \"What's around me? !nearbyBlocks\"},\n",
        "            {\"role\": \"system\", \"content\": \"NEARBY_BLOCKS\\n- oak_log\\n- dirt\\n- cobblestone\"},\n",
        "            {\"role\": \"assistant\", \"content\": \"I see some oak logs, dirt, and cobblestone nearby. My goal is to craft a wooden pickaxe. I'll start by collecting some wood. !collectBlock('oak_log', 10)\"},\n",
        "            {\"role\": \"system\", \"content\": \"Successfully collected 9 wood.\"},\n",
        "            {\"role\": \"assistant\", \"content\": \"I collected 9 oak logs. I need a pickaxe first, which requires planks and sticks. !craftItem('oak_plank', 9)\"},\n",
        "            {\"role\": \"system\", \"content\": \"Successfully crafted 9 oak_planks.\"},\n",
        "            {\"role\": \"assistant\", \"content\": \"I have crafted 9 oak planks. Now I need sticks. !craftItem('stick', 2)\"},\n",
        "            {\"role\": \"system\", \"content\": \"Successfully crafted 2 sticks.\"},\n",
        "            {\"role\": \"assistant\", \"content\": \"I have crafted 2 sticks. Now I can craft a wooden pickaxe. !craftItem('wooden_pickaxe', 1)\"},\n",
        "            {\"role\": \"system\", \"content\": \"Successfully crafted 1 wooden_pickaxe.\"},\n",
        "            {\"role\": \"assistant\", \"content\": \"Looks like I have a wooden pickaxe now! Goal accomplished. !endGoal\"}\n",
        "        ],\n",
        "        [\n",
        "            {\"role\": \"system\", \"content\": \"set a goal to build whatever you want endlessly (context: you are in creative mode)\"},\n",
        "            {\"role\": \"assistant\", \"content\": \"!goal('Build something creative, then move over, and build again. Use separate newActions. Repeat forever.')\"}\n",
        "        ],\n",
        "        [\n",
        "            {\"role\": \"system\", \"content\": \"You are self-prompting with the goal: 'Build a house'. Respond:\"},\n",
        "            {\"role\": \"assistant\", \"content\": \"Alright, lets start with the basic structure. !newAction('Build an 8x8 base for the house.')\"}\n",
        "        ]\n",
        "    ],\n",
        "\n",
        "coding_examples = [\n",
        "        [\n",
        "            {\"role\": \"user\", \"content\": \"greg: Collect 10 wood\"},\n",
        "            {\"role\": \"assistant\", \"content\": \"```await skills.collectBlock(bot, 'oak_log', 10);\\n```\"},\n",
        "            {\"role\": \"system\", \"content\": \"Successfully collected 9 wood.\"},\n",
        "            {\"role\": \"assistant\", \"content\": \"I collected 9 oak logs, what next?\"}\n",
        "        ],\n",
        "        [\n",
        "            {\"role\": \"user\", \"content\": \"bobby: cook some chicken\"},\n",
        "            {\"role\": \"assistant\", \"content\": \"```await skills.smeltItem(bot, 'chicken', 8);\\n```\"},\n",
        "            {\"role\": \"system\", \"content\": \"Successfully smelted 8 chicken into 8 cooked_chicken.\"},\n",
        "            {\"role\": \"assistant\", \"content\": \"I have cooked 8 chicken.\"}\n",
        "        ],\n",
        "        [\n",
        "            {\"role\": \"user\", \"content\": \"zZZn98: come here\"},\n",
        "            {\"role\": \"assistant\", \"content\": \"```await skills.goToPlayer(bot, 'zZZn98');\\n```\"},\n",
        "            {\"role\": \"system\", \"content\": \"Code execution finished successfully.\"},\n",
        "            {\"role\": \"assistant\", \"content\": \"Here!\"}\n",
        "        ],\n",
        "        [\n",
        "            {\"role\": \"user\", \"content\": \"maya: go to the nearest oak log\"},\n",
        "            {\"role\": \"assistant\", \"content\": \"```await skills.goToPosition(bot, nearestOakLog.x, nearestOakLog.y, nearestOakLog.z);\\n```\"},\n",
        "            {\"role\": \"system\", \"content\": \"Code output:\\n!!Code threw exception!!  Error: ReferenceError: nearestOakLog is not defined\\n Write code to fix the problem and try again.\"},\n",
        "            {\"role\": \"assistant\", \"content\": \"Apologies, I made an error. Let me try that again.```\\n// I am navigating to the nearest oak log.\\nlet position = world.getNearestBlock(bot, 'oak_log', 20);\\nawait skills.goToPosition(bot, position.x, position.y, position.z);\\n```\"},\n",
        "            {\"role\": \"system\", \"content\": \"Arrived at location.\"},\n",
        "            {\"role\": \"assistant\", \"content\": \"I found an oak log and I am now standing next to it. What next?\"}\n",
        "        ],\n",
        "        [\n",
        "            {\"role\": \"user\", \"content\": \"234jeb: build a little tower with a torch on the side\"},\n",
        "            {\"role\": \"assistant\", \"content\": \"```let pos = bot.entity.position;\\nfor (let i = 0; i < 5; i++) {\\n    await skills.placeBlock(bot, 'dirt', pos.x, pos.y + i, pos.z);\\n}\\nawait skills.placeBlock(bot, 'torch', pos.x + 1, pos.y + 4, pos.z, 'side');\\n```\"},\n",
        "            {\"role\": \"system\", \"content\": \"Successfully placed 5 dirt.\"},\n",
        "            {\"role\": \"assistant\", \"content\": \"I built a little tower!\"}\n",
        "        ],\n",
        "        [\n",
        "            {\"role\": \"user\", \"content\": \"brug: build a dirt house\"},\n",
        "            {\"role\": \"assistant\", \"content\": \"```const position = world.getPosition(bot);\\nconst startX = position.x;\\nconst startY = position.y;\\nconst startZ = position.z;\\nconst width = 7;\\nconst depth = 7;\\nconst height = 4;\\n\\n// Build the walls\\nfor (let x = startX; x < startX + width; x++) {\\n    for (let y = startY; y < startY + height; y++) {\\n        for (let z = startZ; z < startZ + depth; z++) {\\n            if (x === startX || x === startX + width - 1 || y === startY || y === startY + height - 1 || z === startZ || z === startZ + depth - 1) {\\n                await skills.placeBlock(bot, 'oak_planks', x, y, z);  \\n            }\\n       }\\n    }\\n}\\n```\"}\n",
        "        ]\n",
        "    ]"
      ]
    },
    {
      "cell_type": "markdown",
      "metadata": {
        "id": "pUPFUaj38Msj"
      },
      "source": [
        "Grab your API Key from [Kradle](https://app.kradle.ai) and store it as a Google Colab Secret (there's a button in the left sidebar). Name the secret 'KRADLE_API_KEY'"
      ]
    },
    {
      "cell_type": "code",
      "execution_count": 4,
      "metadata": {
        "id": "tCzuXADY8Dql"
      },
      "outputs": [],
      "source": [
        "try:\n",
        "    from google.colab import userdata\n",
        "    KRADLE_API_KEY=userdata.get('KRADLE_API_KEY')\n",
        "except:\n",
        "    import os\n",
        "    from dotenv import load_dotenv\n",
        "    load_dotenv()\n",
        "    KRADLE_API_KEY = os.getenv('KRADLE_API_KEY')\n",
        "\n",
        "if KRADLE_API_KEY is None:\n",
        "    raise ValueError(\"KRADLE_API_KEY is not set. In Colab, set it as a secret. When running locally, set it as an environment variable.\")\n"
      ]
    },
    {
      "cell_type": "markdown",
      "metadata": {
        "id": "X739hYDiS_jI"
      },
      "source": [
        "Grab your API Key from [OpenRouter](https://openrouter.ai) and store it as a Google Colab Secret (there's a button in the left sidebar). Name the secret 'OPENROUTER_API_KEY'"
      ]
    },
    {
      "cell_type": "code",
      "execution_count": 5,
      "metadata": {
        "id": "atHnHhHkTJ4y"
      },
      "outputs": [],
      "source": [
        "try:\n",
        "    from google.colab import userdata\n",
        "    OPENROUTER_API_KEY=userdata.get('OPENROUTER_API_KEY')\n",
        "except:\n",
        "    import os\n",
        "    from dotenv import load_dotenv\n",
        "    load_dotenv()\n",
        "    OPENROUTER_API_KEY = os.getenv('OPENROUTER_API_KEY')\n",
        "\n",
        "if OPENROUTER_API_KEY is None:\n",
        "    raise ValueError(\"OPENROUTER_API_KEY is not set. In Colab, set it as a secret. When running locally, set it as an environment variable.\")\n"
      ]
    },
    {
      "cell_type": "markdown",
      "metadata": {
        "id": "UA9JDEr0TWYF"
      },
      "source": [
        "Define the personality of your agent, and select which model you'd like to use.\n",
        "\n",
        "You can also decide if you want to respond with code, and how fast you want your agent to run."
      ]
    },
    {
      "cell_type": "code",
      "execution_count": 6,
      "metadata": {
        "id": "1iT603u6Ta9q"
      },
      "outputs": [],
      "source": [
        "# let's define a model and persona for our agent\n",
        "PERSONA = \"you are a helpful assistant\" # check out some other personas in prompts/config.py\n",
        "MODEL = \"openai/gpt-4o\" # refer to https://openrouter.ai/models for available models\n",
        "\n",
        "# plus some additional settings:\n",
        "\n",
        "RESPOND_WITH_CODE = False # set this to true to have the llm generate runnable code instead of regular commands\n",
        "DELAY_AFTER_ACTION = 100 # minimal delay after an action is performed. increase this if the agent is too fast or if you want more time to see the agent's actions\n"
      ]
    },
    {
      "cell_type": "markdown",
      "metadata": {
        "id": "jq3dCJ1E896V"
      },
      "source": [
        "Let's now write the actual Agent"
      ]
    },
    {
      "cell_type": "code",
      "execution_count": 7,
      "metadata": {
        "id": "N6_xmWiS85gY"
      },
      "outputs": [],
      "source": [
        "class LLMBasedAgent(MinecraftAgent):\n",
        "\n",
        "    username = \"llm-agent\" # this is the username of the agent\n",
        "    display_name = \"LLM Agent\" # this is the display name of the agent\n",
        "    description = \"This is an LLM-based agent that can be used to perform tasks in Minecraft.\"\n",
        "\n",
        "    # the is the first call that the agent gets when the session starts\n",
        "    # agent_config contains all the instructions for the agent, starting with the task\n",
        "    # the agent returns a list of events that it is interested in, which will later trigger the on_event function\n",
        "    def init_participant(self, challenge_info):\n",
        "\n",
        "        # self.memory is a utility instantiated for you\n",
        "        # that can be used to store and retrieve information\n",
        "        # throughout the lifecycle of this participant. It is an instance of\n",
        "        # the StandardMemory class in the kradle SDK\n",
        "\n",
        "        #set task\n",
        "        self.memory.task = challenge_info.task\n",
        "\n",
        "        #set message lists\n",
        "        self.memory.messages = []\n",
        "\n",
        "        #set chat history\n",
        "        self.memory.chat_history = []\n",
        "\n",
        "        #set agent modes (e.g. creative mode, self_preservation, etc)\n",
        "        self.memory.agent_modes = challenge_info.agent_modes\n",
        "\n",
        "        #set action dictionary\n",
        "        # here, we have commands and js_functions\n",
        "        self.memory.commands = challenge_info.commands\n",
        "        self.memory.js_functions = challenge_info.js_functions\n",
        "\n",
        "        #set persona ad models\n",
        "        self.memory.persona = PERSONA\n",
        "        self.memory.model = MODEL\n",
        "\n",
        "        #decide we will respond with code. if set to true, the agent will respond with javascript code. if set to false, the agent will respond with a command\n",
        "        self.memory.RESPOND_WITH_CODE = RESPOND_WITH_CODE\n",
        "\n",
        "        #minimal delay after an action is performed. increase this if the agent is too fast or if you want more time to see the agent's actions\n",
        "        self.memory.DELAY_AFTER_ACTION = DELAY_AFTER_ACTION\n",
        "\n",
        "        print(f\"Initializing agent for participant ID: {self.participant_id} with slug: {self.username}\")\n",
        "        print(f\"Persona: {self.memory.persona}\")\n",
        "        print(f\"Model: {self.memory.model}\")\n",
        "\n",
        "        # let's log the init call to kradle using the\n",
        "        # built in self.log() method from the MinecraftAgent class\n",
        "        # self.log(\n",
        "        #     {\n",
        "        #         \"persona\": self.memory.persona,\n",
        "        #         \"model\": self.memory.model,\n",
        "        #         \"respond_with_code\": self.memory.RESPOND_WITH_CODE\n",
        "        #     }\n",
        "        # )\n",
        "\n",
        "        # Agent_config contains available_events\n",
        "        return {'listenTo': [MinecraftEvent.MESSAGE, MinecraftEvent.COMMAND_EXECUTED]}\n",
        "\n",
        "    # this function is called when an event occurs\n",
        "    # the agent returns an action to be performed\n",
        "    def on_event(self, observation):\n",
        "        state_summary = self.format_state_summary(observation)\n",
        "        print(f\"\\nState Summary:\\n{state_summary}\")\n",
        "        print (\"Task: \", self.memory.task)\n",
        "\n",
        "        response = self.get_llm_response(state_summary, observation)\n",
        "        print(f\"Agent Response: {response}\")\n",
        "        print(f\"Participant ID: {self.participant_id}\")\n",
        "\n",
        "        return response\n",
        "\n",
        "\n",
        "    # this function converts an observation object into a string that can be used to build the prompt\n",
        "    def format_state_summary(self, observation):\n",
        "        self.memory.chat_history.extend(observation.messages)\n",
        "\n",
        "        print(f\"Messages: {self.memory.chat_history}\")\n",
        "\n",
        "        chat_summary = '\\n'.join(\n",
        "            f'{msg.sender}: {msg.message}'\n",
        "            for msg in self.memory.chat_history[-10:]\n",
        "        ) if self.memory.chat_history else 'None'\n",
        "\n",
        "        inventory_summary = ', '.join([\n",
        "            f'{count} {name}'\n",
        "            for name, count in observation.inventory.items()\n",
        "        ]) if observation.inventory else 'None'\n",
        "\n",
        "        return (\n",
        "            f\"{observation.output if observation.output else 'Output: None'}\\n\\n\"\n",
        "            f\"Chat: {chat_summary}\\n\\n\"\n",
        "            f\"Visible Players: {', '.join(observation.players) if observation.players else 'None'}\\n\\n\"\n",
        "            f\"Visible Blocks: {', '.join(observation.blocks) if observation.blocks else 'None'}\\n\\n\"\n",
        "            f\"Inventory: {inventory_summary}\\n\\n\"\n",
        "            f\"Health: {observation.health * 100}/100\"\n",
        "        )\n",
        "\n",
        "    # this function builds the system prompt for the agent\n",
        "    def format_system_prompt(self, observation):\n",
        "        if self.memory.RESPOND_WITH_CODE:\n",
        "            prompt = coding_prompt\n",
        "        else:\n",
        "            prompt = conversing_prompt\n",
        "\n",
        "        #load task, persona, agent_modes, and commands from memory to build the prompt\n",
        "        prompt = prompt.replace(\"$NAME\", observation.name)\n",
        "        prompt = prompt.replace(\"$TASK\", self.memory.task)\n",
        "        prompt = prompt.replace(\"$PERSONA\", self.memory.persona)\n",
        "        prompt = prompt.replace(\"$AGENT_MODE\", str(self.memory.agent_modes))\n",
        "\n",
        "        if self.memory.RESPOND_WITH_CODE:\n",
        "            prompt = prompt.replace(\"$CODE_DOCS\", str(self.memory.js_functions))\n",
        "            prompt = prompt.replace(\"$EXAMPLES\", str(coding_examples))\n",
        "        else:\n",
        "            prompt = prompt.replace(\"$COMMAND_DOCS\", str(self.memory.commands))\n",
        "            prompt = prompt.replace(\"$EXAMPLES\", str(conversation_examples))\n",
        "\n",
        "            if self.memory.agent_modes['mcmode']=='creative':\n",
        "                prompt = prompt.replace(\"$CREATIVE_MODE\", creative_mode_prompt)\n",
        "            else:\n",
        "                prompt = prompt.replace(\"$CREATIVE_MODE\", \"You are in survival mode.\")\n",
        "\n",
        "        return prompt\n",
        "\n",
        "    # this function send the prompt to the LLM and gets the response\n",
        "    def get_llm_response(self, state_summary, observation):\n",
        "        messages = [\n",
        "            {\"role\": \"system\", \"content\": self.format_system_prompt(observation)},\n",
        "            *self.memory.messages[-5:],\n",
        "            {\"role\": \"user\", \"content\": state_summary}\n",
        "        ]\n",
        "\n",
        "        response = requests.post(\n",
        "            \"https://openrouter.ai/api/v1/chat/completions\",\n",
        "            headers={\"Authorization\": f\"Bearer {OPENROUTER_API_KEY}\"},\n",
        "            json={\n",
        "                \"model\": self.memory.model,\n",
        "                \"messages\": messages\n",
        "            },\n",
        "            timeout=30\n",
        "        ).json()\n",
        "\n",
        "        print(f\"Response: {response}\")\n",
        "\n",
        "        if response[\"choices\"]:\n",
        "            content = response[\"choices\"][0][\"message\"][\"content\"]\n",
        "        else:\n",
        "            content = \"I'm sorry, I'm having trouble generating a response. Please try again later.\"\n",
        "\n",
        "\n",
        "        # logging the llm call using the built in self.log() method\n",
        "        # self.log(\n",
        "        #     {\n",
        "        #         \"prompt\": messages,\n",
        "        #         \"model\": self.memory.model,\n",
        "        #         \"response\": content\n",
        "        #     }\n",
        "        # )\n",
        "\n",
        "        self.memory.messages.extend([\n",
        "            {\"role\": \"user\", \"content\": state_summary},\n",
        "            {\"role\": \"assistant\", \"content\": content}\n",
        "        ])\n",
        "\n",
        "        if self.memory.RESPOND_WITH_CODE:\n",
        "            return {\"code\": content, \"delay\": self.memory.DELAY_AFTER_ACTION}\n",
        "        return {\"command\": content, \"delay\": self.memory.DELAY_AFTER_ACTION}"
      ]
    },
    {
      "cell_type": "markdown",
      "metadata": {
        "id": "wxcML8flNXIQ"
      },
      "source": [
        "And then start it"
      ]
    },
    {
      "cell_type": "code",
      "execution_count": 8,
      "metadata": {
        "colab": {
          "base_uri": "https://localhost:8080/",
          "height": 570
        },
        "id": "cCuN44E185EM",
        "outputId": "715165a9-8e6f-4f25-d6c9-bc18cd7ee800"
      },
      "outputs": [
        {
          "name": "stdout",
          "output_type": "stream",
          "text": [
            "username: llm-agent\n"
          ]
        },
        {
          "data": {
            "text/html": [
              "<pre style=\"white-space:pre;overflow-x:auto;line-height:normal;font-family:Menlo,'DejaVu Sans Mono',consolas,'Courier New',monospace\"><span style=\"color: #008000; text-decoration-color: #008000\">✓ Public URL </span><span style=\"color: #008000; text-decoration-color: #008000; font-weight: bold\">(</span><span style=\"color: #008000; text-decoration-color: #008000\">tunnel</span><span style=\"color: #008000; text-decoration-color: #008000; font-weight: bold\">)</span><span style=\"color: #008000; text-decoration-color: #008000\"> created successfully</span>\n",
              "</pre>\n"
            ],
            "text/plain": [
              "\u001b[32m✓ Public URL \u001b[0m\u001b[1;32m(\u001b[0m\u001b[32mtunnel\u001b[0m\u001b[1;32m)\u001b[0m\u001b[32m created successfully\u001b[0m\n"
            ]
          },
          "metadata": {},
          "output_type": "display_data"
        },
        {
          "data": {
            "text/html": [
              "<pre style=\"white-space:pre;overflow-x:auto;line-height:normal;font-family:Menlo,'DejaVu Sans Mono',consolas,'Courier New',monospace\"><span style=\"color: #000080; text-decoration-color: #000080\">○ Agent </span><span style=\"color: #008000; text-decoration-color: #008000\">'llm-agent'</span><span style=\"color: #000080; text-decoration-color: #000080\"> not found, creating it</span>\n",
              "</pre>\n"
            ],
            "text/plain": [
              "\u001b[34m○ Agent \u001b[0m\u001b[32m'llm-agent'\u001b[0m\u001b[34m not found, creating it\u001b[0m\n"
            ]
          },
          "metadata": {},
          "output_type": "display_data"
        },
        {
          "data": {
            "text/html": [
              "<pre style=\"white-space:pre;overflow-x:auto;line-height:normal;font-family:Menlo,'DejaVu Sans Mono',consolas,'Courier New',monospace\"><span style=\"color: #008000; text-decoration-color: #008000\">✓ Agent </span><span style=\"color: #008000; text-decoration-color: #008000\">'llm-agent'</span><span style=\"color: #008000; text-decoration-color: #008000\"> created successfully</span>\n",
              "</pre>\n"
            ],
            "text/plain": [
              "\u001b[32m✓ Agent \u001b[0m\u001b[32m'llm-agent'\u001b[0m\u001b[32m created successfully\u001b[0m\n"
            ]
          },
          "metadata": {},
          "output_type": "display_data"
        },
        {
          "data": {
            "text/html": [
              "<pre style=\"white-space:pre;overflow-x:auto;line-height:normal;font-family:Menlo,'DejaVu Sans Mono',consolas,'Courier New',monospace\"></pre>\n"
            ],
            "text/plain": []
          },
          "metadata": {},
          "output_type": "display_data"
        },
        {
          "data": {
            "text/html": [
              "<pre style=\"white-space:pre;overflow-x:auto;line-height:normal;font-family:Menlo,'DejaVu Sans Mono',consolas,'Courier New',monospace\">\n",
              "<span style=\"color: #008080; text-decoration-color: #008080; font-weight: bold\">🔮 KRADLE</span> <span style=\"color: #ffffff; text-decoration-color: #ffffff\">Agent Server</span>\n",
              "\n",
              "</pre>\n"
            ],
            "text/plain": [
              "\n",
              "\u001b[1;36m🔮 KRADLE\u001b[0m \u001b[97mAgent Server\u001b[0m\n",
              "\n"
            ]
          },
          "metadata": {},
          "output_type": "display_data"
        },
        {
          "data": {
            "text/html": [
              "<pre style=\"white-space:pre;overflow-x:auto;line-height:normal;font-family:Menlo,'DejaVu Sans Mono',consolas,'Courier New',monospace\"><span style=\"color: #ffffff; text-decoration-color: #ffffff\">AGENT   </span><span style=\"color: #008080; text-decoration-color: #008080; font-weight: bold\">llm-agent</span><span style=\"color: #7f7f7f; text-decoration-color: #7f7f7f\"> (Port 1500)</span>\n",
              "</pre>\n"
            ],
            "text/plain": [
              "\u001b[97mAGENT   \u001b[0m\u001b[1;36mllm-agent\u001b[0m\u001b[2m (Port 1500)\u001b[0m\n"
            ]
          },
          "metadata": {},
          "output_type": "display_data"
        },
        {
          "data": {
            "text/html": [
              "<pre style=\"white-space:pre;overflow-x:auto;line-height:normal;font-family:Menlo,'DejaVu Sans Mono',consolas,'Courier New',monospace\"><span style=\"color: #808080; text-decoration-color: #808080\">╭──────────────────────────────────────────────────── </span><span style=\"color: #c0c0c0; text-decoration-color: #c0c0c0\">Network</span><span style=\"color: #808080; text-decoration-color: #808080\"> ────────────────────────────────────────────────────╮</span>\n",
              "<span style=\"color: #808080; text-decoration-color: #808080\">│</span>                                                                                                                 <span style=\"color: #808080; text-decoration-color: #808080\">│</span>\n",
              "<span style=\"color: #808080; text-decoration-color: #808080\">│</span>                                                                                                                 <span style=\"color: #808080; text-decoration-color: #808080\">│</span>\n",
              "<span style=\"color: #808080; text-decoration-color: #808080\">│</span>  <span style=\"color: #c0c0c0; text-decoration-color: #c0c0c0\">→ Local URL     </span><span style=\"color: #008080; text-decoration-color: #008080\">http://localhost:1500/llm-agent</span>                                                                <span style=\"color: #808080; text-decoration-color: #808080\">│</span>\n",
              "<span style=\"color: #808080; text-decoration-color: #808080\">│</span>  <span style=\"color: #c0c0c0; text-decoration-color: #c0c0c0\">→ Network URL   </span><span style=\"color: #008000; text-decoration-color: #008000\">https://rnoji-34-125-191-52.a.free.pinggy.link/llm-agent</span>                                       <span style=\"color: #808080; text-decoration-color: #808080\">│</span>\n",
              "<span style=\"color: #808080; text-decoration-color: #808080\">│</span>                                                                                                                 <span style=\"color: #808080; text-decoration-color: #808080\">│</span>\n",
              "<span style=\"color: #808080; text-decoration-color: #808080\">│</span>                                                                                                                 <span style=\"color: #808080; text-decoration-color: #808080\">│</span>\n",
              "<span style=\"color: #808080; text-decoration-color: #808080\">╰─────────────────────────────────────────────────────────────────────────────────────────────────────────────────╯</span>\n",
              "</pre>\n"
            ],
            "text/plain": [
              "\u001b[90m╭─\u001b[0m\u001b[90m───────────────────────────────────────────────────\u001b[0m\u001b[90m \u001b[0m\u001b[37mNetwork\u001b[0m\u001b[90m \u001b[0m\u001b[90m───────────────────────────────────────────────────\u001b[0m\u001b[90m─╮\u001b[0m\n",
              "\u001b[90m│\u001b[0m                                                                                                                 \u001b[90m│\u001b[0m\n",
              "\u001b[90m│\u001b[0m                                                                                                                 \u001b[90m│\u001b[0m\n",
              "\u001b[90m│\u001b[0m  \u001b[37m→ Local URL     \u001b[0m\u001b[36mhttp://localhost:1500/llm-agent\u001b[0m                                                                \u001b[90m│\u001b[0m\n",
              "\u001b[90m│\u001b[0m  \u001b[37m→ Network URL   \u001b[0m\u001b[32mhttps://rnoji-34-125-191-52.a.free.pinggy.link/llm-agent\u001b[0m                                       \u001b[90m│\u001b[0m\n",
              "\u001b[90m│\u001b[0m                                                                                                                 \u001b[90m│\u001b[0m\n",
              "\u001b[90m│\u001b[0m                                                                                                                 \u001b[90m│\u001b[0m\n",
              "\u001b[90m╰─────────────────────────────────────────────────────────────────────────────────────────────────────────────────╯\u001b[0m\n"
            ]
          },
          "metadata": {},
          "output_type": "display_data"
        },
        {
          "data": {
            "text/html": [
              "<pre style=\"white-space:pre;overflow-x:auto;line-height:normal;font-family:Menlo,'DejaVu Sans Mono',consolas,'Courier New',monospace\"><span style=\"color: #008000; text-decoration-color: #008000\">╭─────────────────────────────────────────────────────────────────────────────────────────────────────────────────╮</span>\n",
              "<span style=\"color: #008000; text-decoration-color: #008000\">│</span>                                                                                                                 <span style=\"color: #008000; text-decoration-color: #008000\">│</span>\n",
              "<span style=\"color: #008000; text-decoration-color: #008000\">│</span>  <span style=\"color: #008000; text-decoration-color: #008000; font-weight: bold\">✨ Your agent is running locally!</span>                                                                              <span style=\"color: #008000; text-decoration-color: #008000\">│</span>\n",
              "<span style=\"color: #008000; text-decoration-color: #008000\">│</span>                                                                                                                 <span style=\"color: #008000; text-decoration-color: #008000\">│</span>\n",
              "<span style=\"color: #008000; text-decoration-color: #008000\">│</span>  <span style=\"color: #ffffff; text-decoration-color: #ffffff\">You can customize your agent:</span>                                                                                  <span style=\"color: #008000; text-decoration-color: #008000\">│</span>\n",
              "<span style=\"color: #008000; text-decoration-color: #008000\">│</span>  <span style=\"color: #c0c0c0; text-decoration-color: #c0c0c0\">• Use any Python packages (LangChain, Transformers, etc.)</span>                                                      <span style=\"color: #008000; text-decoration-color: #008000\">│</span>\n",
              "<span style=\"color: #008000; text-decoration-color: #008000\">│</span>  <span style=\"color: #c0c0c0; text-decoration-color: #c0c0c0\">• Integrate your own models or APIs</span>                                                                            <span style=\"color: #008000; text-decoration-color: #008000\">│</span>\n",
              "<span style=\"color: #008000; text-decoration-color: #008000\">│</span>  <span style=\"color: #c0c0c0; text-decoration-color: #c0c0c0\">• Modify how your agent responds to events</span>                                                                     <span style=\"color: #008000; text-decoration-color: #008000\">│</span>\n",
              "<span style=\"color: #008000; text-decoration-color: #008000\">│</span>                                                                                                                 <span style=\"color: #008000; text-decoration-color: #008000\">│</span>\n",
              "<span style=\"color: #008000; text-decoration-color: #008000\">│</span>  <span style=\"color: #ffffff; text-decoration-color: #ffffff\">Ready to start?</span>                                                                                                <span style=\"color: #008000; text-decoration-color: #008000\">│</span>\n",
              "<span style=\"color: #008000; text-decoration-color: #008000\">│</span>  <span style=\"color: #c0c0c0; text-decoration-color: #c0c0c0\">→ Visit </span><span style=\"color: #008080; text-decoration-color: #008080; text-decoration: underline\">app.kradle.ai/workbench/challenges</span><span style=\"color: #c0c0c0; text-decoration-color: #c0c0c0\"> to select a challenge to launch your agent into</span>                     <span style=\"color: #008000; text-decoration-color: #008000\">│</span>\n",
              "<span style=\"color: #008000; text-decoration-color: #008000\">│</span>                                                                                                                 <span style=\"color: #008000; text-decoration-color: #008000\">│</span>\n",
              "<span style=\"color: #008000; text-decoration-color: #008000\">│</span>  <span style=\"color: #808000; text-decoration-color: #808000\">Keep this window open to receive game events from Kradle</span>                                                       <span style=\"color: #008000; text-decoration-color: #008000\">│</span>\n",
              "<span style=\"color: #008000; text-decoration-color: #008000\">│</span>                                                                                                                 <span style=\"color: #008000; text-decoration-color: #008000\">│</span>\n",
              "<span style=\"color: #008000; text-decoration-color: #008000\">╰─────────────────────────────────────────────────────────────────────────────────────────────────────────────────╯</span>\n",
              "</pre>\n"
            ],
            "text/plain": [
              "\u001b[32m╭─────────────────────────────────────────────────────────────────────────────────────────────────────────────────╮\u001b[0m\n",
              "\u001b[32m│\u001b[0m                                                                                                                 \u001b[32m│\u001b[0m\n",
              "\u001b[32m│\u001b[0m  \u001b[1;32m✨ Your agent is running locally!\u001b[0m                                                                              \u001b[32m│\u001b[0m\n",
              "\u001b[32m│\u001b[0m                                                                                                                 \u001b[32m│\u001b[0m\n",
              "\u001b[32m│\u001b[0m  \u001b[97mYou can customize your agent:\u001b[0m                                                                                  \u001b[32m│\u001b[0m\n",
              "\u001b[32m│\u001b[0m  \u001b[37m• Use any Python packages (LangChain, Transformers, etc.)\u001b[0m                                                      \u001b[32m│\u001b[0m\n",
              "\u001b[32m│\u001b[0m  \u001b[37m• Integrate your own models or APIs\u001b[0m                                                                            \u001b[32m│\u001b[0m\n",
              "\u001b[32m│\u001b[0m  \u001b[37m• Modify how your agent responds to events\u001b[0m                                                                     \u001b[32m│\u001b[0m\n",
              "\u001b[32m│\u001b[0m                                                                                                                 \u001b[32m│\u001b[0m\n",
              "\u001b[32m│\u001b[0m  \u001b[97mReady to start?\u001b[0m                                                                                                \u001b[32m│\u001b[0m\n",
              "\u001b[32m│\u001b[0m  \u001b[37m→ Visit \u001b[0m\u001b[4;36mapp.kradle.ai/workbench/challenges\u001b[0m\u001b[37m to select a challenge to launch your agent into\u001b[0m                     \u001b[32m│\u001b[0m\n",
              "\u001b[32m│\u001b[0m                                                                                                                 \u001b[32m│\u001b[0m\n",
              "\u001b[32m│\u001b[0m  \u001b[33mKeep this window open to receive game events from Kradle\u001b[0m                                                       \u001b[32m│\u001b[0m\n",
              "\u001b[32m│\u001b[0m                                                                                                                 \u001b[32m│\u001b[0m\n",
              "\u001b[32m╰─────────────────────────────────────────────────────────────────────────────────────────────────────────────────╯\u001b[0m\n"
            ]
          },
          "metadata": {},
          "output_type": "display_data"
        },
        {
          "data": {
            "text/html": [
              "<pre style=\"white-space:pre;overflow-x:auto;line-height:normal;font-family:Menlo,'DejaVu Sans Mono',consolas,'Courier New',monospace\">\n",
              "<span style=\"color: #7f7f7f; text-decoration-color: #7f7f7f\">Press Ctrl+C to stop the server</span>\n",
              "</pre>\n"
            ],
            "text/plain": [
              "\n",
              "\u001b[2mPress Ctrl+C to stop the server\u001b[0m\n"
            ]
          },
          "metadata": {},
          "output_type": "display_data"
        },
        {
          "name": "stdout",
          "output_type": "stream",
          "text": [
            "\n",
            "Started agent at URL: https://rnoji-34-125-191-52.a.free.pinggy.link/llm-agent\n"
          ]
        }
      ],
      "source": [
        "# manually set the api key on the AgentManager\n",
        "# we can't rely on .env since this could be running on colab\n",
        "AgentManager.set_api_key(KRADLE_API_KEY)\n",
        "\n",
        "# This creates a web server and is available through a SSH tunnel\n",
        "# the agent will be served at \"/llm-agent\"\n",
        "connection_info = AgentManager.serve(LLMBasedAgent, create_public_url=True)\n",
        "print(f\"Started agent at URL: {connection_info}\")"
      ]
    }
  ],
  "metadata": {
    "colab": {
      "provenance": []
    },
    "kernelspec": {
      "display_name": "venv",
      "language": "python",
      "name": "python3"
    },
    "language_info": {
      "codemirror_mode": {
        "name": "ipython",
        "version": 3
      },
      "file_extension": ".py",
      "mimetype": "text/x-python",
      "name": "python",
      "nbconvert_exporter": "python",
      "pygments_lexer": "ipython3",
      "version": "3.12.9"
    }
  },
  "nbformat": 4,
  "nbformat_minor": 0
}
