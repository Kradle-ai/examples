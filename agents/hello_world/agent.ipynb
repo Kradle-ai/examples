{
  "cells": [
    {
      "cell_type": "markdown",
      "metadata": {},
      "source": [
        "# Hello World Agent\n",
        "\n",
        "This is a python notebook version of the agent.py. It can be run locally or on colab."
      ]
    },
    {
      "cell_type": "code",
      "execution_count": 1,
      "metadata": {
        "collapsed": true,
        "id": "fbcDcn3S7tJT"
      },
      "outputs": [],
      "source": [
        "%%capture\n",
        "pip install kradle==0.3.4"
      ]
    },
    {
      "cell_type": "code",
      "execution_count": 2,
      "metadata": {
        "id": "t-Mx8YWb79_v"
      },
      "outputs": [],
      "source": [
        "from kradle import (\n",
        "   KradleAPI,\n",
        "   AgentManager,\n",
        "   MinecraftAgent,\n",
        "   MinecraftEvent\n",
        ")\n",
        "from kradle.models import Observation"
      ]
    },
    {
      "cell_type": "markdown",
      "metadata": {
        "id": "pUPFUaj38Msj"
      },
      "source": [
        "Grab your API Key from [Kradle](https://app.kradle.ai) and store it as a Google Colab Secret (there's a button in the left sidebar). Name the secret 'KRADLE_API_KEY'"
      ]
    },
    {
      "cell_type": "code",
      "execution_count": 3,
      "metadata": {
        "id": "tCzuXADY8Dql"
      },
      "outputs": [],
      "source": [
        "try:\n",
        "    from google.colab import userdata\n",
        "    KRADLE_API_KEY=userdata.get('KRADLE_API_KEY')\n",
        "except:\n",
        "    import os\n",
        "    from dotenv import load_dotenv\n",
        "    load_dotenv()\n",
        "    KRADLE_API_KEY = os.getenv('KRADLE_API_KEY')\n",
        "\n",
        "if KRADLE_API_KEY is None:\n",
        "    raise ValueError(\"KRADLE_API_KEY is not set. In Colab, set it as a secret. When running locally, set it as an environment variable.\")\n"
      ]
    },
    {
      "cell_type": "markdown",
      "metadata": {
        "id": "jq3dCJ1E896V"
      },
      "source": [
        "Let's now write the actual Agent"
      ]
    },
    {
      "cell_type": "code",
      "execution_count": 5,
      "metadata": {
        "id": "N6_xmWiS85gY"
      },
      "outputs": [],
      "source": [
        "class HelloWorldAgent(MinecraftAgent):\n",
        "    # the is the first call that the agent gets when the session starts\n",
        "    # agent_config contains all the instructions for the agent, starting with the task\n",
        "    # the agent returns a list of events that it is interested in, which will later trigger the on_event function\n",
        "    \n",
        "    username = \"hello-world-agent\" # this is the username of the agent\n",
        "    display_name = \"Hello World Agent\" # this is the display name of the agent\n",
        "    description = \"This is an agent that responds to any private message with a Hello World! chat message.\"\n",
        "\n",
        "    def init_participant(self, challenge_info):\n",
        "       print (f\"Initializing with task {challenge_info.task}\")\n",
        "\n",
        "       # Easily log a message to the Kradle session\n",
        "       # for easy debugging\n",
        "       # self.log(\"Hello World bot initializing!\")\n",
        "       \n",
        "       # Specify events to receive:\n",
        "       # - MESSAGE: When chat messages received\n",
        "       return {'listenTo': [MinecraftEvent.MESSAGE]}\n",
        "\n",
        "    # this function is called when an event occurs\n",
        "    # the agent returns an action to be performed\n",
        "    def on_event(self, observation: Observation):\n",
        "       # It is either an COMMAND_EXECUTED or MESSAGE event\n",
        "       print (f\"Receiving an event observation about {observation.event}\")\n",
        "       \n",
        "       # Log the chat message to Kradle for debugging\n",
        "       # self.log(f\"Received a chat message: {observation.message}\")\n",
        "\n",
        "       # Respond with a hello world message\n",
        "       return {\n",
        "           \"chat\": \"Hello World!\",\n",
        "       }"
      ]
    },
    {
      "cell_type": "markdown",
      "metadata": {},
      "source": [
        "And then start it"
      ]
    },
    {
      "cell_type": "code",
      "execution_count": null,
      "metadata": {
        "colab": {
          "base_uri": "https://localhost:8080/",
          "height": 141
        },
        "id": "cCuN44E185EM",
        "outputId": "9a543004-83ae-4bbb-c174-813db256e381"
      },
      "outputs": [],
      "source": [
        "# manually set the api key on the AgentManager\n",
        "# we can't rely on .env since this could be running on colab\n",
        "AgentManager.set_api_key(KRADLE_API_KEY)\n",
        "\n",
        "# This creates a web server and opens a tunnel so it's accessible.\n",
        "# It will automatically update the URL for this agent on Kradle to\n",
        "# connect to this server\n",
        "connection_info = AgentManager.serve(HelloWorldAgent, create_public_url=True)\n",
        "print(f\"Started agent at URL: {connection_info}\")\n",
        "\n",
        "# now go to app.kradle.ai and run this agent against a challenge"
      ]
    }
  ],
  "metadata": {
    "colab": {
      "provenance": []
    },
    "kernelspec": {
      "display_name": "venv",
      "language": "python",
      "name": "python3"
    },
    "language_info": {
      "codemirror_mode": {
        "name": "ipython",
        "version": 3
      },
      "file_extension": ".py",
      "mimetype": "text/x-python",
      "name": "python",
      "nbconvert_exporter": "python",
      "pygments_lexer": "ipython3",
      "version": "3.12.2"
    }
  },
  "nbformat": 4,
  "nbformat_minor": 0
}
